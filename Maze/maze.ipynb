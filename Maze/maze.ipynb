{
 "metadata": {
  "language_info": {
   "codemirror_mode": {
    "name": "ipython",
    "version": 3
   },
   "file_extension": ".py",
   "mimetype": "text/x-python",
   "name": "python",
   "nbconvert_exporter": "python",
   "pygments_lexer": "ipython3",
   "version": "3.7.3-final"
  },
  "orig_nbformat": 2,
  "kernelspec": {
   "name": "python37364bita5514da68baa406a93fad7edcbae2d44",
   "display_name": "Python 3.7.3 64-bit",
   "language": "python"
  }
 },
 "nbformat": 4,
 "nbformat_minor": 2,
 "cells": [
  {
   "source": [
    "# Algorithm for Finding the Shortest Path in a Grid\n",
    "## Description of the Problem\n",
    "Having a rectangular grid (of size height $\\times$ width) where each cell has a random integer between 0 and 9. An agent starts at the upper-left corner of the grid and must reach the bottom-right corner of the grid as fast as possible. The time spent on a cell is the number on this cell.\n",
    "<br>\n",
    "<br>\n",
    "We can model this problem with a graph where each cell is a vertex and the number on a cell is the edge of this vertex from a neighbour vertex in the graph. Each vertex (cell) can have at most 4 neighbours (left-up-right-bottom)\n",
    "\n"
   ],
   "cell_type": "markdown",
   "metadata": {}
  },
  {
   "cell_type": "code",
   "execution_count": 7,
   "metadata": {},
   "outputs": [],
   "source": [
    "import numpy as np \n",
    "from copy import deepcopy"
   ]
  },
  {
   "cell_type": "code",
   "execution_count": 8,
   "metadata": {},
   "outputs": [
    {
     "output_type": "stream",
     "name": "stdout",
     "text": [
      "[[3 0 9 6 1 2 3 2 1 4 5 3]\n [8 1 2 2 4 6 6 5 0 7 2 3]\n [6 1 9 2 8 4 8 1 2 5 2 4]\n [3 8 1 9 7 9 5 2 6 4 7 5]\n [4 0 7 9 7 4 4 0 0 4 9 7]\n [1 0 4 1 3 3 5 7 7 2 3 9]\n [2 6 2 8 8 3 2 6 5 2 6 5]\n [5 2 6 6 2 1 5 1 7 2 1 5]\n [3 9 7 2 6 8 5 9 1 2 3 2]\n [1 7 5 1 1 1 5 4 3 2 5 9]]\n"
     ]
    }
   ],
   "source": [
    "# BUILD THE GRID\n",
    "from gridMaker import Grid\n",
    "\n",
    "grid = Grid(10,12)  # AN INSTANCE OF THE GRID CLASS\n",
    "sample_grid = grid.make_grid()  # MAKE THE GRID\n",
    "\n",
    "print(sample_grid)\n",
    "\n"
   ]
  },
  {
   "source": [
    "## Random Search\n",
    "\n",
    "An agent can decide to go to a neighbour cell based on a random choice generated from a uniform distribution. To model this method we generate a class and find the time it takes to move from the source to a target destination and compute the average time for 1000 trials of this kind. "
   ],
   "cell_type": "markdown",
   "metadata": {}
  },
  {
   "cell_type": "code",
   "execution_count": 9,
   "metadata": {},
   "outputs": [
    {
     "output_type": "stream",
     "name": "stdout",
     "text": [
      "average time \n\n2936.562 \n\none sample path \n\n[(0, 0), (0, 1), (0, 0), (0, 1), (0, 2), (1, 2), (2, 2), (1, 2), (0, 2), (0, 1), (0, 2), (0, 1), (0, 2), (1, 2), (2, 2), (3, 2), (4, 2), (5, 2), (4, 2), (4, 3), (5, 3), (6, 3), (7, 3), (7, 2), (7, 1), (7, 0), (7, 1), (6, 1), (7, 1), (8, 1), (8, 2), (8, 3), (8, 4), (8, 5), (8, 6), (8, 7), (8, 6), (9, 6), (9, 7), (9, 8), (9, 9), (9, 8), (9, 9), (9, 10), (8, 10), (9, 10), (8, 10), (9, 10), (9, 9), (9, 10), (8, 10), (8, 11), (8, 10), (9, 10), (9, 11)] \n\nand its time \n\n[240.]\n"
     ]
    }
   ],
   "source": [
    "from RandomSearch import RandomSearch\n",
    "\n",
    "# MAKE AN OBJECT OT THE RANDOMSEARCH CLASS \n",
    "algorithm = RandomSearch(sample_grid, target=(10,12))\n",
    "\n",
    "# DICTIONARY TO ADD TRIALS' PATHS AND DISTANCES (TIMES)\n",
    "paths = {'path':[], 'dist':[]}\n",
    "for i in range(1000):\n",
    "    dist, path = algorithm.find_the_path()\n",
    "    paths['path'].append(path)\n",
    "    paths['dist'].append(dist)\n",
    "\n",
    "# THE AVERAGE TIME OF ALL TRIALS AND SMAPLE PATH FOR ONE OF THEM \n",
    "average_distance = np.mean(paths['dist'])\n",
    "print('average time \\n')\n",
    "print(average_distance, '\\n')\n",
    "print('one sample path \\n')\n",
    "print(paths['path'][0], '\\n')\n",
    "print('and its time \\n')\n",
    "print(paths['dist'][0])"
   ]
  },
  {
   "source": [
    "## Suboptimal Heuristic Solution\n",
    "A heuristic method to find the shortest path between the source (upper-left corner) and a target vertex in a random size graph can be a sequence of best moves on each steps to find the suboptimal solution to the problem. The agent starts at the source and finds the best action (move) among the feasible solutions (its neighbours). Because all the possible targets in the grid are on the bottom-right side of the agent, we assume that each cell has just two feasible neighbours which are the right and the bottom cells of the current cell. The agent walks through the grid and in each step it chooses to go to the right or to the bottom, however, it cannot move to a cell where has a location number on the grid greater than the number of the target location based on the grid coordinates (upper-left corner)."
   ],
   "cell_type": "markdown",
   "metadata": {}
  },
  {
   "cell_type": "code",
   "execution_count": 10,
   "metadata": {},
   "outputs": [
    {
     "output_type": "stream",
     "name": "stdout",
     "text": [
      "sample grid \n\n[[3 0 9 6 1 2 3 2 1 4 5 3]\n [8 1 2 2 4 6 6 5 0 7 2 3]\n [6 1 9 2 8 4 8 1 2 5 2 4]\n [3 8 1 9 7 9 5 2 6 4 7 5]\n [4 0 7 9 7 4 4 0 0 4 9 7]\n [1 0 4 1 3 3 5 7 7 2 3 9]\n [2 6 2 8 8 3 2 6 5 2 6 5]\n [5 2 6 6 2 1 5 1 7 2 1 5]\n [3 9 7 2 6 8 5 9 1 2 3 2]\n [1 7 5 1 1 1 5 4 3 2 5 9]] \n\npath \n\n[(0, 0), (0, 1), (1, 1), (2, 1), (3, 1), (4, 1), (5, 1), (5, 2), (5, 3), (5, 4), (5, 5), (6, 5), (7, 5), (7, 6), (7, 7), (7, 8), (8, 8), (8, 9), (9, 9), (9, 10), (9, 11)] \n\ntime \n\n[48.] \n\n"
     ]
    }
   ],
   "source": [
    "from BaselineAlgorithm import BASP\n",
    "\n",
    "# MAKE AN INSTANCE OF BASP\n",
    "algorithm = BASP(sample_grid, target=(10,12))\n",
    "path, dist = algorithm.find_the_path()\n",
    "\n",
    "# RESULTS\n",
    "print('sample grid \\n')\n",
    "print(sample_grid,'\\n')\n",
    "print('path \\n')\n",
    "print(path,'\\n')\n",
    "print('time \\n')\n",
    "print(dist,'\\n')"
   ]
  },
  {
   "source": [
    "## Conclusion on Baseline\n",
    "We can see that the baseline algorithm is far better than a random based decision and it is also faster in terms of computation. If the grid is big then the computation might be exhaustive for the random search algorithm.  "
   ],
   "cell_type": "markdown",
   "metadata": {}
  },
  {
   "source": [
    "## Dijkstra's Algorithm\n",
    "One of the well-known and efficient algorithms to find the shortest path in a graph is [Dijkstra's algorithm] (https://en.wikipedia.org/wiki/Dijkstra%27s_algorithm). For a given source vertex in the graph, this algorithm finds the shortest path from the source to any vertices in the graph. This algorithm uses positive intigers or real numbers labels which are totally ordered.\n",
    "<br>\n",
    "<br>\n",
    "In the environment of the problem stated above, the starting vertex (source) is the upper-left corner and the target is the bottom-right corner of the grid. Dijkstra's algorithm assumes each vertex distance is the distance between source and that vertex. The steps for finding the shortest path in this algorithm is as follows:\n",
    "\n",
    "> 1. Create a set of unvisited cells containing all the cells.\n",
    "2. Set the initial distance of all cells to infinity and assign zero to the source.\n",
    "3. Set the source as the current cell.\n",
    "4. Calculate the distance of all unvisited neighbours to the current cell. Add the value of current distance to the calculated distances for each feasible neighbour. If the distance for a neighbour is less than the current value of it then modify this value with the new calculated distance. This is the distance from source to the neighbour through the current cell.\n",
    "5. After considering all the feasible neighbours of the current cell, mark the current cell as visited and remove it from the unvisited cells.\n",
    "6. If the target cell marked as visited then terminate the process.\n",
    "7. Otherwise, set the unvisited cell with the smallest tentative distance as the new current cell, and go back to step 4.\n",
    "\n",
    "We can also stop the process when the target has the smallest tentative distance among all unvisited cells. "
   ],
   "cell_type": "markdown",
   "metadata": {}
  },
  {
   "cell_type": "code",
   "execution_count": 11,
   "metadata": {},
   "outputs": [
    {
     "output_type": "stream",
     "name": "stdout",
     "text": [
      "Sample grid:\n\n[[3 0 9 6 1 2 3 2 1 4 5 3]\n [8 1 2 2 4 6 6 5 0 7 2 3]\n [6 1 9 2 8 4 8 1 2 5 2 4]\n [3 8 1 9 7 9 5 2 6 4 7 5]\n [4 0 7 9 7 4 4 0 0 4 9 7]\n [1 0 4 1 3 3 5 7 7 2 3 9]\n [2 6 2 8 8 3 2 6 5 2 6 5]\n [5 2 6 6 2 1 5 1 7 2 1 5]\n [3 9 7 2 6 8 5 9 1 2 3 2]\n [1 7 5 1 1 1 5 4 3 2 5 9]] \n\nMinimum Distances Matrix from the Source:\n\n[[ 0.  0.  9. 11. 10. 12. 15. 17. 18. 22. 27. 30.]\n [ 8.  1.  3.  5.  9. 15. 21. 22. 18. 25. 27. 30.]\n [ 8.  2. 11.  7. 15. 19. 27. 21. 20. 25. 27. 31.]\n [11. 10. 11. 16. 22. 28. 28. 23. 26. 29. 34. 36.]\n [14. 10. 17. 24. 25. 25. 27. 23. 23. 27. 36. 43.]\n [11. 10. 14. 15. 18. 21. 26. 30. 30. 29. 32. 41.]\n [13. 16. 16. 23. 26. 24. 26. 32. 35. 31. 37. 42.]\n [18. 18. 22. 28. 27. 25. 30. 31. 38. 33. 34. 39.]\n [21. 27. 29. 30. 33. 33. 35. 40. 36. 35. 37. 39.]\n [22. 29. 34. 31. 32. 33. 38. 42. 39. 37. 42. 48.]] \n\nmin time from the target:\n\n39.0 \n\nDijkstra's Shortest Path from Source to Target:\n\n[(0, 0), (0, 1), (1, 1), (1, 2), (1, 3), (1, 4), (0, 4), (0, 5), (0, 6), (0, 7), (0, 8), (1, 8), (2, 8), (2, 7), (3, 7), (4, 7), (4, 8), (4, 9), (5, 9), (6, 9), (7, 9), (7, 10), (8, 10), (8, 11), (9, 11)]\n"
     ]
    }
   ],
   "source": [
    "from DijkstraAlgorithm import Dijkstra\n",
    "\n",
    "# MAKE AN INSTANCE OF DIJKSTRA\n",
    "algorithm = Dijkstra(grid=sample_grid, target=(10,12))\n",
    "minimum_distances, target_distance, target_path = algorithm.find_the_shortest_path()\n",
    "\n",
    "# RESULTS\n",
    "print('Sample grid:\\n')\n",
    "print(sample_grid,'\\n')\n",
    "print('Minimum Distances Matrix from the Source:\\n')\n",
    "print(minimum_distances,'\\n')\n",
    "print('min time from the target:\\n')\n",
    "print(target_distance,'\\n')\n",
    "print(\"Dijkstra's Shortest Path from Source to Target:\\n\")\n",
    "print(target_path)"
   ]
  },
  {
   "source": [
    "## Conclusion on Dijkstra's Algorithm\n",
    "Dijkstra's algorithm converges to the global minimum for non-negative edges. As we stated our before the problem environment satisfies this condition. Therefore, we always have a solution for this problem that we defined. An induction proof for Dijkstra's algorithm can be as follows:\n",
    "> 1. If there is only one visited cell say that the source the hypothesis is trivial.\n",
    "2. Let assume for each visited cell (v), $dist[v]$ is the shortest path from the source to (v) just using the visited cells.  \n",
    "3. Let assume we have n-1 visited nodes. We choose an edge (vu) such that (u) is an unvisited cell which has the smallest tentative distance $dist[u]$ among the unvisited cells, and $dist[u] = dist[v] + length[v,u]$.\n",
    "4. If there is another unvisited cell (w) which the shortest path from source to (u) passes through (w) then it contradicts the fact that (u) has the smallest $dist[u]$ among unvisited cells say that $dist[w] < dist[u]$, which creates a contradiction.\n",
    "5. If there is another visited cell that has the shortest path to u then $dist[u] = dist[w] + length[w,u]$ which creates a contradiction again to the fact that $dist[u] = dist[v] + length[v,u]$.\n",
    "6. This is true for all other unvisited cells (w). Because, if there were another way which goes through unvisited cell (u) then we would have updated it previously.\n",
    "7. The shortest pass for all cells can be find using just visited cells.\n",
    "8. Therefore, $dist[v]$ is the shortest distance."
   ],
   "cell_type": "markdown",
   "metadata": {}
  },
  {
   "source": [
    "## Ant Colony Optimization\n",
    "One of the well-known algorithms to find the shortest path in a graph is [Ant Colony System (ACS-paper)] (http://www.idsia.ch/~luca/acs-ec97.pdf). For a given source vertex in the graph, this algorithm finds the shortest path from the source to a specified target. These sort of algorithms diversified to solve a wide range of problems such as Routing Vehicles, RFID-Tags, Image Processing, Device Sizing Problem, and etc.\n",
    "<br>\n",
    "<br>\n",
    "In the environment of the problem stated above, the starting vertex (source) is the upper-left corner and the target is the bottom-right corner of the grid. In Ant Colony Optimization (ACO) algorithm, a set of artificial ants (agents-ants) search for approximate solution to a given optimization problem. These ants gradually build solutions by moving on the grid. The solution construction process is stochastic and biased by a $pheromone~model$. The parameters of $phromone~model$ are modified at runtime by the ants. These parameters are associated with graph components (edges or vertices). ACS construction steps can be as follows:\n",
    "> 1. A set of m artificial ants construct solutions from a finite set of avaible solution components $C = \\{v_{i,j} \\mid 1 \\leq i,j \\leq n \\}$. A solution construction starts with a set of empty partial solutions $s^p$. At each construction step, the current partial solution is extended by adding a feasible solution component from the set of feasible neighbours $N(s^p)$. This process can be regarded as the path.\n",
    "2. The process of selecting a solution component among the feasible neighbours is done probabilistically at each construction step. The transition probability $p(v_{i,j} \\mid s_k^p)$ of the k-th ant moving from vertex i to j is given by:\n",
    "<br>\n",
    "<br>\n",
    "A random variable q uniformly distributed over $[0,1]$ and an initial probability $q_0$. If $q \\leq q_0$, then among the feasible components on this step, the component which maximizes the product $\\tau_{i,j}^\\alpha \\cdot \\eta_{i,j}^\\beta$ is chosen. Otherwise as follows:\n",
    "\n",
    "\\begin{equation}\n",
    "    p(v_{i,j} \\mid s_k^p) =\n",
    "        \\begin{cases}\n",
    "            \\frac{\\tau_{i,j}^\\alpha \\cdot \\eta_{i,j}^\\beta}{\\sum\\limits_{v_{i,l} \\in N(s_k^p)}\\tau_{i,l}^\\alpha \\cdot \\eta_{i,l}^\\beta}  & \\text{if } j \\in N(s_k^p) \\\\\n",
    "            0 & \\text{Otherwise}\n",
    "        \\end{cases}\n",
    "            \n",
    "\\end{equation}\n",
    " \n",
    "> where $\\tau_{i,j}$ and $\\eta_{i,j}$ are repectively the pheromone value and the heuristic value associated with component $v_{i,j}$. Furthermore, $\\alpha$ and $\\beta$ are positive real parameters whose values control the relative importance of pheromone value versus the heuristic information $\\eta_{i,j} = \\frac{1}{d_{i,j}}$, where $d_{i,j}$ is the length of component $v_{i,j}$.\n",
    "<br>\n",
    "\n",
    "> 3. A local pheromone update is performed by all ants after each construction step. Each ant only applies it to the last edge traversed:\n",
    "\n",
    "\\begin{equation}\n",
    "    \\tau_{i,j} = (1 - \\phi) \\tau_{i,j} + \\phi \\tau_0 \n",
    "\\end{equation}\n",
    "\n",
    "> where $\\phi \\in (0,1]$ is the pheromone decay coefficient, and $\\tau_0$ is the initial value of the pheromone. The goal of local update is to diversify the search of subsequent ants during one iteration.\n",
    "<br>\n",
    "\n",
    "> 4. At the end of the construction process, an offline pheromone update is performed. This update is done by the best ant only on visited edges by this ant as the equation given by:\n",
    "\\begin{equation}\n",
    "    \\tau_{i,j} = (1 - \\rho) \\tau_{i,j} + \\Delta \\tau_{i,j}^{best}\n",
    "\\end{equation}\n",
    "\n",
    "> where $\\Delta \\tau_{i,j}^{best} = \\frac{1}{L_{best}}$ for the visited edges by the best ant and zero Otherwise. $L_{best}$ can be either the length of the best tour found in the current iteration or the best solution up to the current iteration of trial (We implement the latter one).\n",
    "<br>\n",
    "\n",
    "> 5. The stopping criterion can be a certain number of iteration or after that there is no improvment in the pheromone values or the best solution found after a patience number (We implement the first one)."
   ],
   "cell_type": "markdown",
   "metadata": {}
  },
  {
   "cell_type": "code",
   "execution_count": 12,
   "metadata": {},
   "outputs": [
    {
     "output_type": "stream",
     "name": "stdout",
     "text": [
      "sample grid\n\n[[3 0 9 6 1 2 3 2 1 4 5 3]\n [8 1 2 2 4 6 6 5 0 7 2 3]\n [6 1 9 2 8 4 8 1 2 5 2 4]\n [3 8 1 9 7 9 5 2 6 4 7 5]\n [4 0 7 9 7 4 4 0 0 4 9 7]\n [1 0 4 1 3 3 5 7 7 2 3 9]\n [2 6 2 8 8 3 2 6 5 2 6 5]\n [5 2 6 6 2 1 5 1 7 2 1 5]\n [3 9 7 2 6 8 5 9 1 2 3 2]\n [1 7 5 1 1 1 5 4 3 2 5 9]] \n\nthe path\n\n[(0, 0), (0, 1), (1, 1), (2, 1), (2, 0), (3, 0), (4, 0), (4, 1), (5, 1), (5, 0), (6, 0), (7, 0), (8, 0), (9, 0), (9, 1), (9, 2), (9, 3), (9, 4), (9, 5), (9, 6), (9, 7), (9, 8), (9, 9), (9, 10), (9, 11)] \n\ntime to reach the target\n\n[70.]\n"
     ]
    }
   ],
   "source": [
    "from ACO import ACS\n",
    "\n",
    "# MAKE AN INSTANCE OF ACS \n",
    "algorithm = ACS(sample_grid, target=(10,12))\n",
    "path, time = algorithm.find_the_shortest_path(n_ants=10,\n",
    "                                              n_iterations=200,\n",
    "                                              beta=1.3,\n",
    "                                              callbacks=['absolute_difference',\n",
    "                                                        4,\n",
    "                                                        4])\n",
    "# RESULTS\n",
    "print('sample grid\\n')\n",
    "print(sample_grid,'\\n')\n",
    "print('the path\\n')\n",
    "print(path,'\\n')\n",
    "print('time to reach the target\\n')\n",
    "print(time)"
   ]
  }
 ]
}